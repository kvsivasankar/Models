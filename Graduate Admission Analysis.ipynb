{
 "cells": [
  {
   "cell_type": "markdown",
   "metadata": {},
   "source": [
    "1. Project Overview\n",
    "\n",
    "The objective of this project is to understand which of the given variables will be useful in determining the chance of a student being admitted as this afford us the opportunity to be able to predict if a student will be admitted with the minimum possible error.\n",
    "\n",
    "The dataset consists of 500 observations and 9 variables. 8 independent variables and 1 dependent variable which makes this project a supervised learning task.\n",
    "\n",
    "\n",
    "https://www.kaggle.com/mohansacharya/graduate-admissions\n"
   ]
  },
  {
   "cell_type": "markdown",
   "metadata": {},
   "source": [
    "The required Libraries"
   ]
  },
  {
   "cell_type": "code",
   "execution_count": 1,
   "metadata": {},
   "outputs": [],
   "source": [
    "import pandas as pd\n",
    "import numpy as np\n",
    "import matplotlib.pyplot as plt\n",
    "import seaborn as sns\n",
    "%matplotlib inline"
   ]
  },
  {
   "cell_type": "markdown",
   "metadata": {},
   "source": [
    "Importing the Dataset"
   ]
  },
  {
   "cell_type": "code",
   "execution_count": 2,
   "metadata": {},
   "outputs": [
    {
     "name": "stdout",
     "output_type": "stream",
     "text": [
      "(500, 9)\n"
     ]
    }
   ],
   "source": [
    "dataset = pd.read_csv(\"Admission_Predict_Ver1.1.csv\")\n",
    "print(dataset.shape)"
   ]
  },
  {
   "cell_type": "code",
   "execution_count": 3,
   "metadata": {},
   "outputs": [
    {
     "data": {
      "text/html": [
       "<div>\n",
       "<style scoped>\n",
       "    .dataframe tbody tr th:only-of-type {\n",
       "        vertical-align: middle;\n",
       "    }\n",
       "\n",
       "    .dataframe tbody tr th {\n",
       "        vertical-align: top;\n",
       "    }\n",
       "\n",
       "    .dataframe thead th {\n",
       "        text-align: right;\n",
       "    }\n",
       "</style>\n",
       "<table border=\"1\" class=\"dataframe\">\n",
       "  <thead>\n",
       "    <tr style=\"text-align: right;\">\n",
       "      <th></th>\n",
       "      <th>Serial No.</th>\n",
       "      <th>GRE Score</th>\n",
       "      <th>TOEFL Score</th>\n",
       "      <th>University Rating</th>\n",
       "      <th>SOP</th>\n",
       "      <th>LOR</th>\n",
       "      <th>CGPA</th>\n",
       "      <th>Research</th>\n",
       "      <th>Chance of Admit</th>\n",
       "    </tr>\n",
       "  </thead>\n",
       "  <tbody>\n",
       "    <tr>\n",
       "      <th>0</th>\n",
       "      <td>1</td>\n",
       "      <td>337</td>\n",
       "      <td>118</td>\n",
       "      <td>4</td>\n",
       "      <td>4.5</td>\n",
       "      <td>4.5</td>\n",
       "      <td>9.65</td>\n",
       "      <td>1</td>\n",
       "      <td>0.92</td>\n",
       "    </tr>\n",
       "    <tr>\n",
       "      <th>1</th>\n",
       "      <td>2</td>\n",
       "      <td>324</td>\n",
       "      <td>107</td>\n",
       "      <td>4</td>\n",
       "      <td>4.0</td>\n",
       "      <td>4.5</td>\n",
       "      <td>8.87</td>\n",
       "      <td>1</td>\n",
       "      <td>0.76</td>\n",
       "    </tr>\n",
       "    <tr>\n",
       "      <th>2</th>\n",
       "      <td>3</td>\n",
       "      <td>316</td>\n",
       "      <td>104</td>\n",
       "      <td>3</td>\n",
       "      <td>3.0</td>\n",
       "      <td>3.5</td>\n",
       "      <td>8.00</td>\n",
       "      <td>1</td>\n",
       "      <td>0.72</td>\n",
       "    </tr>\n",
       "    <tr>\n",
       "      <th>3</th>\n",
       "      <td>4</td>\n",
       "      <td>322</td>\n",
       "      <td>110</td>\n",
       "      <td>3</td>\n",
       "      <td>3.5</td>\n",
       "      <td>2.5</td>\n",
       "      <td>8.67</td>\n",
       "      <td>1</td>\n",
       "      <td>0.80</td>\n",
       "    </tr>\n",
       "    <tr>\n",
       "      <th>4</th>\n",
       "      <td>5</td>\n",
       "      <td>314</td>\n",
       "      <td>103</td>\n",
       "      <td>2</td>\n",
       "      <td>2.0</td>\n",
       "      <td>3.0</td>\n",
       "      <td>8.21</td>\n",
       "      <td>0</td>\n",
       "      <td>0.65</td>\n",
       "    </tr>\n",
       "  </tbody>\n",
       "</table>\n",
       "</div>"
      ],
      "text/plain": [
       "   Serial No.  GRE Score  TOEFL Score  University Rating  SOP  LOR   CGPA  \\\n",
       "0           1        337          118                  4  4.5   4.5  9.65   \n",
       "1           2        324          107                  4  4.0   4.5  8.87   \n",
       "2           3        316          104                  3  3.0   3.5  8.00   \n",
       "3           4        322          110                  3  3.5   2.5  8.67   \n",
       "4           5        314          103                  2  2.0   3.0  8.21   \n",
       "\n",
       "   Research  Chance of Admit   \n",
       "0         1              0.92  \n",
       "1         1              0.76  \n",
       "2         1              0.72  \n",
       "3         1              0.80  \n",
       "4         0              0.65  "
      ]
     },
     "execution_count": 3,
     "metadata": {},
     "output_type": "execute_result"
    }
   ],
   "source": [
    "# Overview of the first 5 rows\n",
    "dataset.head(5)"
   ]
  },
  {
   "cell_type": "markdown",
   "metadata": {},
   "source": [
    "Summary of the dataset\n",
    "\n",
    "This gives a brief overview of how the dataset is distributed. A critical look suggests that both University rating and Research are categorical in nature as they are both within 1 - 5 and 0 - 1 respectively."
   ]
  },
  {
   "cell_type": "code",
   "execution_count": 4,
   "metadata": {},
   "outputs": [
    {
     "data": {
      "text/html": [
       "<div>\n",
       "<style scoped>\n",
       "    .dataframe tbody tr th:only-of-type {\n",
       "        vertical-align: middle;\n",
       "    }\n",
       "\n",
       "    .dataframe tbody tr th {\n",
       "        vertical-align: top;\n",
       "    }\n",
       "\n",
       "    .dataframe thead th {\n",
       "        text-align: right;\n",
       "    }\n",
       "</style>\n",
       "<table border=\"1\" class=\"dataframe\">\n",
       "  <thead>\n",
       "    <tr style=\"text-align: right;\">\n",
       "      <th></th>\n",
       "      <th>Serial No.</th>\n",
       "      <th>GRE Score</th>\n",
       "      <th>TOEFL Score</th>\n",
       "      <th>University Rating</th>\n",
       "      <th>SOP</th>\n",
       "      <th>LOR</th>\n",
       "      <th>CGPA</th>\n",
       "      <th>Research</th>\n",
       "      <th>Chance of Admit</th>\n",
       "    </tr>\n",
       "  </thead>\n",
       "  <tbody>\n",
       "    <tr>\n",
       "      <th>count</th>\n",
       "      <td>500.000000</td>\n",
       "      <td>500.000000</td>\n",
       "      <td>500.000000</td>\n",
       "      <td>500.000000</td>\n",
       "      <td>500.000000</td>\n",
       "      <td>500.00000</td>\n",
       "      <td>500.000000</td>\n",
       "      <td>500.000000</td>\n",
       "      <td>500.00000</td>\n",
       "    </tr>\n",
       "    <tr>\n",
       "      <th>mean</th>\n",
       "      <td>250.500000</td>\n",
       "      <td>316.472000</td>\n",
       "      <td>107.192000</td>\n",
       "      <td>3.114000</td>\n",
       "      <td>3.374000</td>\n",
       "      <td>3.48400</td>\n",
       "      <td>8.576440</td>\n",
       "      <td>0.560000</td>\n",
       "      <td>0.72174</td>\n",
       "    </tr>\n",
       "    <tr>\n",
       "      <th>std</th>\n",
       "      <td>144.481833</td>\n",
       "      <td>11.295148</td>\n",
       "      <td>6.081868</td>\n",
       "      <td>1.143512</td>\n",
       "      <td>0.991004</td>\n",
       "      <td>0.92545</td>\n",
       "      <td>0.604813</td>\n",
       "      <td>0.496884</td>\n",
       "      <td>0.14114</td>\n",
       "    </tr>\n",
       "    <tr>\n",
       "      <th>min</th>\n",
       "      <td>1.000000</td>\n",
       "      <td>290.000000</td>\n",
       "      <td>92.000000</td>\n",
       "      <td>1.000000</td>\n",
       "      <td>1.000000</td>\n",
       "      <td>1.00000</td>\n",
       "      <td>6.800000</td>\n",
       "      <td>0.000000</td>\n",
       "      <td>0.34000</td>\n",
       "    </tr>\n",
       "    <tr>\n",
       "      <th>25%</th>\n",
       "      <td>125.750000</td>\n",
       "      <td>308.000000</td>\n",
       "      <td>103.000000</td>\n",
       "      <td>2.000000</td>\n",
       "      <td>2.500000</td>\n",
       "      <td>3.00000</td>\n",
       "      <td>8.127500</td>\n",
       "      <td>0.000000</td>\n",
       "      <td>0.63000</td>\n",
       "    </tr>\n",
       "    <tr>\n",
       "      <th>50%</th>\n",
       "      <td>250.500000</td>\n",
       "      <td>317.000000</td>\n",
       "      <td>107.000000</td>\n",
       "      <td>3.000000</td>\n",
       "      <td>3.500000</td>\n",
       "      <td>3.50000</td>\n",
       "      <td>8.560000</td>\n",
       "      <td>1.000000</td>\n",
       "      <td>0.72000</td>\n",
       "    </tr>\n",
       "    <tr>\n",
       "      <th>75%</th>\n",
       "      <td>375.250000</td>\n",
       "      <td>325.000000</td>\n",
       "      <td>112.000000</td>\n",
       "      <td>4.000000</td>\n",
       "      <td>4.000000</td>\n",
       "      <td>4.00000</td>\n",
       "      <td>9.040000</td>\n",
       "      <td>1.000000</td>\n",
       "      <td>0.82000</td>\n",
       "    </tr>\n",
       "    <tr>\n",
       "      <th>max</th>\n",
       "      <td>500.000000</td>\n",
       "      <td>340.000000</td>\n",
       "      <td>120.000000</td>\n",
       "      <td>5.000000</td>\n",
       "      <td>5.000000</td>\n",
       "      <td>5.00000</td>\n",
       "      <td>9.920000</td>\n",
       "      <td>1.000000</td>\n",
       "      <td>0.97000</td>\n",
       "    </tr>\n",
       "  </tbody>\n",
       "</table>\n",
       "</div>"
      ],
      "text/plain": [
       "       Serial No.   GRE Score  TOEFL Score  University Rating         SOP  \\\n",
       "count  500.000000  500.000000   500.000000         500.000000  500.000000   \n",
       "mean   250.500000  316.472000   107.192000           3.114000    3.374000   \n",
       "std    144.481833   11.295148     6.081868           1.143512    0.991004   \n",
       "min      1.000000  290.000000    92.000000           1.000000    1.000000   \n",
       "25%    125.750000  308.000000   103.000000           2.000000    2.500000   \n",
       "50%    250.500000  317.000000   107.000000           3.000000    3.500000   \n",
       "75%    375.250000  325.000000   112.000000           4.000000    4.000000   \n",
       "max    500.000000  340.000000   120.000000           5.000000    5.000000   \n",
       "\n",
       "            LOR         CGPA    Research  Chance of Admit   \n",
       "count  500.00000  500.000000  500.000000         500.00000  \n",
       "mean     3.48400    8.576440    0.560000           0.72174  \n",
       "std      0.92545    0.604813    0.496884           0.14114  \n",
       "min      1.00000    6.800000    0.000000           0.34000  \n",
       "25%      3.00000    8.127500    0.000000           0.63000  \n",
       "50%      3.50000    8.560000    1.000000           0.72000  \n",
       "75%      4.00000    9.040000    1.000000           0.82000  \n",
       "max      5.00000    9.920000    1.000000           0.97000  "
      ]
     },
     "execution_count": 4,
     "metadata": {},
     "output_type": "execute_result"
    }
   ],
   "source": [
    "dataset.describe()"
   ]
  },
  {
   "cell_type": "markdown",
   "metadata": {},
   "source": [
    "2. Data Preparation\n",
    "\n",
    "Dropping the flat variable"
   ]
  },
  {
   "cell_type": "code",
   "execution_count": 5,
   "metadata": {},
   "outputs": [],
   "source": [
    "dataset.drop(columns=['Serial No.'], axis=1, inplace=True)"
   ]
  },
  {
   "cell_type": "markdown",
   "metadata": {},
   "source": [
    "Checking for Missing Data"
   ]
  },
  {
   "cell_type": "code",
   "execution_count": 6,
   "metadata": {},
   "outputs": [
    {
     "data": {
      "text/plain": [
       "GRE Score            0\n",
       "TOEFL Score          0\n",
       "University Rating    0\n",
       "SOP                  0\n",
       "LOR                  0\n",
       "CGPA                 0\n",
       "Research             0\n",
       "Chance of Admit      0\n",
       "dtype: int64"
      ]
     },
     "execution_count": 6,
     "metadata": {},
     "output_type": "execute_result"
    }
   ],
   "source": [
    "dataset.apply(lambda x: sum(x.isnull()))"
   ]
  },
  {
   "cell_type": "markdown",
   "metadata": {},
   "source": [
    "Refining variables to avoid computation difficulties"
   ]
  },
  {
   "cell_type": "code",
   "execution_count": 7,
   "metadata": {},
   "outputs": [
    {
     "data": {
      "text/plain": [
       "['gre_score',\n",
       " 'toefl_score',\n",
       " 'university_rating',\n",
       " 'sop',\n",
       " 'lor',\n",
       " 'cgpa',\n",
       " 'research',\n",
       " 'chance_of_admit']"
      ]
     },
     "execution_count": 7,
     "metadata": {},
     "output_type": "execute_result"
    }
   ],
   "source": [
    "dataset.columns = dataset.columns.str.strip().str.lower().str.replace(' ', '_').str.replace('(', '').str.replace(')', '')\n",
    "list(dataset)"
   ]
  },
  {
   "cell_type": "markdown",
   "metadata": {},
   "source": [
    "The distribution of Chance of Admit Checking the distribution of the response variable enables one to determine if the variable is skewed; either to the right or left; or is normallly distributed.\n",
    "\n",
    "Since, chance of Admit is normally distributed and hence, it is fit for use."
   ]
  },
  {
   "cell_type": "code",
   "execution_count": 8,
   "metadata": {},
   "outputs": [
    {
     "name": "stderr",
     "output_type": "stream",
     "text": [
      "/anaconda3/lib/python3.6/site-packages/matplotlib/axes/_axes.py:6462: UserWarning: The 'normed' kwarg is deprecated, and has been replaced by the 'density' kwarg.\n",
      "  warnings.warn(\"The 'normed' kwarg is deprecated, and has been \"\n"
     ]
    },
    {
     "data": {
      "text/plain": [
       "<matplotlib.axes._subplots.AxesSubplot at 0x10822abe0>"
      ]
     },
     "execution_count": 8,
     "metadata": {},
     "output_type": "execute_result"
    },
    {
     "data": {
      "image/png": "[encoded data removed]",
      "text/plain": [
       "<Figure size 432x288 with 1 Axes>"
      ]
     },
     "metadata": {},
     "output_type": "display_data"
    }
   ],
   "source": [
    "sns.distplot(dataset['chance_of_admit'].dropna(), hist=True, kde=True, \n",
    "             bins=int(350/50), color = 'darkblue', \n",
    "             hist_kws={'edgecolor':'black'},\n",
    "             kde_kws={'linewidth': 4})"
   ]
  },
  {
   "cell_type": "markdown",
   "metadata": {},
   "source": [
    "Checking that the variables are in the right format\n",
    "\n",
    "Since Research and University Rating are categorical variable, it is not right to have them as integer. Hence, we change the data type to object."
   ]
  },
  {
   "cell_type": "code",
   "execution_count": 9,
   "metadata": {},
   "outputs": [],
   "source": [
    "dataset['university_rating']= dataset.university_rating.astype(object)\n",
    "dataset['research']= dataset.research.astype(object)"
   ]
  },
  {
   "cell_type": "code",
   "execution_count": 10,
   "metadata": {},
   "outputs": [
    {
     "data": {
      "text/plain": [
       "gre_score              int64\n",
       "toefl_score            int64\n",
       "university_rating     object\n",
       "sop                  float64\n",
       "lor                  float64\n",
       "cgpa                 float64\n",
       "research              object\n",
       "chance_of_admit      float64\n",
       "dtype: object"
      ]
     },
     "execution_count": 10,
     "metadata": {},
     "output_type": "execute_result"
    }
   ],
   "source": [
    "dataset.dtypes"
   ]
  },
  {
   "cell_type": "markdown",
   "metadata": {},
   "source": [
    "Checking for Correlations\n",
    "\n",
    "Correlation coefficient is a statistical measure that helps in understanding the nature and degree of relationship existing between variable. It shows how strongly pairs of variables are related. If a variable X has a correlation coefficient that is more than 0.5 with variable Y, it is generally regarded as both variable are highly correlated."
   ]
  },
  {
   "cell_type": "code",
   "execution_count": 11,
   "metadata": {},
   "outputs": [
    {
     "data": {
      "text/html": [
       "<div>\n",
       "<style scoped>\n",
       "    .dataframe tbody tr th:only-of-type {\n",
       "        vertical-align: middle;\n",
       "    }\n",
       "\n",
       "    .dataframe tbody tr th {\n",
       "        vertical-align: top;\n",
       "    }\n",
       "\n",
       "    .dataframe thead th {\n",
       "        text-align: right;\n",
       "    }\n",
       "</style>\n",
       "<table border=\"1\" class=\"dataframe\">\n",
       "  <thead>\n",
       "    <tr style=\"text-align: right;\">\n",
       "      <th></th>\n",
       "      <th>chance_of_admit</th>\n",
       "    </tr>\n",
       "  </thead>\n",
       "  <tbody>\n",
       "    <tr>\n",
       "      <th>gre_score</th>\n",
       "      <td>0.810351</td>\n",
       "    </tr>\n",
       "    <tr>\n",
       "      <th>toefl_score</th>\n",
       "      <td>0.792228</td>\n",
       "    </tr>\n",
       "    <tr>\n",
       "      <th>sop</th>\n",
       "      <td>0.684137</td>\n",
       "    </tr>\n",
       "    <tr>\n",
       "      <th>lor</th>\n",
       "      <td>0.645365</td>\n",
       "    </tr>\n",
       "    <tr>\n",
       "      <th>cgpa</th>\n",
       "      <td>0.882413</td>\n",
       "    </tr>\n",
       "    <tr>\n",
       "      <th>chance_of_admit</th>\n",
       "      <td>1.000000</td>\n",
       "    </tr>\n",
       "  </tbody>\n",
       "</table>\n",
       "</div>"
      ],
      "text/plain": [
       "                 chance_of_admit\n",
       "gre_score               0.810351\n",
       "toefl_score             0.792228\n",
       "sop                     0.684137\n",
       "lor                     0.645365\n",
       "cgpa                    0.882413\n",
       "chance_of_admit         1.000000"
      ]
     },
     "execution_count": 11,
     "metadata": {},
     "output_type": "execute_result"
    }
   ],
   "source": [
    "pd.DataFrame(dataset.corr()['chance_of_admit'])"
   ]
  },
  {
   "cell_type": "markdown",
   "metadata": {},
   "source": [
    "From the result above, we can authoritatively conclude that all of the chosen variables are highly correlated with the dependent variable 'chance_of_admit' while research has got the lowest correlation coefficient."
   ]
  },
  {
   "cell_type": "code",
   "execution_count": 12,
   "metadata": {},
   "outputs": [
    {
     "data": {
      "text/plain": [
       "<seaborn.axisgrid.PairGrid at 0x108218630>"
      ]
     },
     "execution_count": 12,
     "metadata": {},
     "output_type": "execute_result"
    },
    {
     "data": {
      "image/png": "[encoded data removed]",
      "text/plain": [
       "<Figure size 1260x180 with 7 Axes>"
      ]
     },
     "metadata": {},
     "output_type": "display_data"
    }
   ],
   "source": [
    "sns.pairplot(data=dataset,\n",
    "                  y_vars=['chance_of_admit'],\n",
    "                  x_vars=['gre_score','toefl_score','university_rating','sop','lor','cgpa','research'])"
   ]
  },
  {
   "cell_type": "markdown",
   "metadata": {},
   "source": [
    "Checking for Multicollinearity between the variables\n",
    "\n",
    "Mutlicollineairty is a situation where each of the predictors (independent variables) have got strong correlation with one another."
   ]
  },
  {
   "cell_type": "code",
   "execution_count": 13,
   "metadata": {},
   "outputs": [
    {
     "data": {
      "text/html": [
       "<style  type=\"text/css\" >\n",
       "    #T_f69723f4_7f46_11e9_b14d_acde48001122row0_col0 {\n",
       "            background-color:  #b40426;\n",
       "        }    #T_f69723f4_7f46_11e9_b14d_acde48001122row0_col1 {\n",
       "            background-color:  #f4c5ad;\n",
       "        }    #T_f69723f4_7f46_11e9_b14d_acde48001122row0_col2 {\n",
       "            background-color:  #3b4cc0;\n",
       "        }    #T_f69723f4_7f46_11e9_b14d_acde48001122row0_col3 {\n",
       "            background-color:  #3b4cc0;\n",
       "        }    #T_f69723f4_7f46_11e9_b14d_acde48001122row0_col4 {\n",
       "            background-color:  #e2dad5;\n",
       "        }    #T_f69723f4_7f46_11e9_b14d_acde48001122row0_col5 {\n",
       "            background-color:  #d4dbe6;\n",
       "        }    #T_f69723f4_7f46_11e9_b14d_acde48001122row1_col0 {\n",
       "            background-color:  #f5c1a9;\n",
       "        }    #T_f69723f4_7f46_11e9_b14d_acde48001122row1_col1 {\n",
       "            background-color:  #b40426;\n",
       "        }    #T_f69723f4_7f46_11e9_b14d_acde48001122row1_col2 {\n",
       "            background-color:  #536edd;\n",
       "        }    #T_f69723f4_7f46_11e9_b14d_acde48001122row1_col3 {\n",
       "            background-color:  #455cce;\n",
       "        }    #T_f69723f4_7f46_11e9_b14d_acde48001122row1_col4 {\n",
       "            background-color:  #d7dce3;\n",
       "        }    #T_f69723f4_7f46_11e9_b14d_acde48001122row1_col5 {\n",
       "            background-color:  #c5d6f2;\n",
       "        }    #T_f69723f4_7f46_11e9_b14d_acde48001122row2_col0 {\n",
       "            background-color:  #7699f6;\n",
       "        }    #T_f69723f4_7f46_11e9_b14d_acde48001122row2_col1 {\n",
       "            background-color:  #84a7fc;\n",
       "        }    #T_f69723f4_7f46_11e9_b14d_acde48001122row2_col2 {\n",
       "            background-color:  #b40426;\n",
       "        }    #T_f69723f4_7f46_11e9_b14d_acde48001122row2_col3 {\n",
       "            background-color:  #9bbcff;\n",
       "        }    #T_f69723f4_7f46_11e9_b14d_acde48001122row2_col4 {\n",
       "            background-color:  #7da0f9;\n",
       "        }    #T_f69723f4_7f46_11e9_b14d_acde48001122row2_col5 {\n",
       "            background-color:  #5b7ae5;\n",
       "        }    #T_f69723f4_7f46_11e9_b14d_acde48001122row3_col0 {\n",
       "            background-color:  #3b4cc0;\n",
       "        }    #T_f69723f4_7f46_11e9_b14d_acde48001122row3_col1 {\n",
       "            background-color:  #3b4cc0;\n",
       "        }    #T_f69723f4_7f46_11e9_b14d_acde48001122row3_col2 {\n",
       "            background-color:  #6384eb;\n",
       "        }    #T_f69723f4_7f46_11e9_b14d_acde48001122row3_col3 {\n",
       "            background-color:  #b40426;\n",
       "        }    #T_f69723f4_7f46_11e9_b14d_acde48001122row3_col4 {\n",
       "            background-color:  #3b4cc0;\n",
       "        }    #T_f69723f4_7f46_11e9_b14d_acde48001122row3_col5 {\n",
       "            background-color:  #3b4cc0;\n",
       "        }    #T_f69723f4_7f46_11e9_b14d_acde48001122row4_col0 {\n",
       "            background-color:  #f5c1a9;\n",
       "        }    #T_f69723f4_7f46_11e9_b14d_acde48001122row4_col1 {\n",
       "            background-color:  #f0cdbb;\n",
       "        }    #T_f69723f4_7f46_11e9_b14d_acde48001122row4_col2 {\n",
       "            background-color:  #8fb1fe;\n",
       "        }    #T_f69723f4_7f46_11e9_b14d_acde48001122row4_col3 {\n",
       "            background-color:  #88abfd;\n",
       "        }    #T_f69723f4_7f46_11e9_b14d_acde48001122row4_col4 {\n",
       "            background-color:  #b40426;\n",
       "        }    #T_f69723f4_7f46_11e9_b14d_acde48001122row4_col5 {\n",
       "            background-color:  #f7b79b;\n",
       "        }    #T_f69723f4_7f46_11e9_b14d_acde48001122row5_col0 {\n",
       "            background-color:  #f2cbb7;\n",
       "        }    #T_f69723f4_7f46_11e9_b14d_acde48001122row5_col1 {\n",
       "            background-color:  #e8d6cc;\n",
       "        }    #T_f69723f4_7f46_11e9_b14d_acde48001122row5_col2 {\n",
       "            background-color:  #7597f6;\n",
       "        }    #T_f69723f4_7f46_11e9_b14d_acde48001122row5_col3 {\n",
       "            background-color:  #8db0fe;\n",
       "        }    #T_f69723f4_7f46_11e9_b14d_acde48001122row5_col4 {\n",
       "            background-color:  #f7b599;\n",
       "        }    #T_f69723f4_7f46_11e9_b14d_acde48001122row5_col5 {\n",
       "            background-color:  #b40426;\n",
       "        }</style>  \n",
       "<table id=\"T_f69723f4_7f46_11e9_b14d_acde48001122\" > \n",
       "<thead>    <tr> \n",
       "        <th class=\"blank level0\" ></th> \n",
       "        <th class=\"col_heading level0 col0\" >gre_score</th> \n",
       "        <th class=\"col_heading level0 col1\" >toefl_score</th> \n",
       "        <th class=\"col_heading level0 col2\" >sop</th> \n",
       "        <th class=\"col_heading level0 col3\" >lor</th> \n",
       "        <th class=\"col_heading level0 col4\" >cgpa</th> \n",
       "        <th class=\"col_heading level0 col5\" >chance_of_admit</th> \n",
       "    </tr></thead> \n",
       "<tbody>    <tr> \n",
       "        <th id=\"T_f69723f4_7f46_11e9_b14d_acde48001122level0_row0\" class=\"row_heading level0 row0\" >gre_score</th> \n",
       "        <td id=\"T_f69723f4_7f46_11e9_b14d_acde48001122row0_col0\" class=\"data row0 col0\" >1</td> \n",
       "        <td id=\"T_f69723f4_7f46_11e9_b14d_acde48001122row0_col1\" class=\"data row0 col1\" >0.8272</td> \n",
       "        <td id=\"T_f69723f4_7f46_11e9_b14d_acde48001122row0_col2\" class=\"data row0 col2\" >0.613498</td> \n",
       "        <td id=\"T_f69723f4_7f46_11e9_b14d_acde48001122row0_col3\" class=\"data row0 col3\" >0.524679</td> \n",
       "        <td id=\"T_f69723f4_7f46_11e9_b14d_acde48001122row0_col4\" class=\"data row0 col4\" >0.825878</td> \n",
       "        <td id=\"T_f69723f4_7f46_11e9_b14d_acde48001122row0_col5\" class=\"data row0 col5\" >0.810351</td> \n",
       "    </tr>    <tr> \n",
       "        <th id=\"T_f69723f4_7f46_11e9_b14d_acde48001122level0_row1\" class=\"row_heading level0 row1\" >toefl_score</th> \n",
       "        <td id=\"T_f69723f4_7f46_11e9_b14d_acde48001122row1_col0\" class=\"data row1 col0\" >0.8272</td> \n",
       "        <td id=\"T_f69723f4_7f46_11e9_b14d_acde48001122row1_col1\" class=\"data row1 col1\" >1</td> \n",
       "        <td id=\"T_f69723f4_7f46_11e9_b14d_acde48001122row1_col2\" class=\"data row1 col2\" >0.64441</td> \n",
       "        <td id=\"T_f69723f4_7f46_11e9_b14d_acde48001122row1_col3\" class=\"data row1 col3\" >0.541563</td> \n",
       "        <td id=\"T_f69723f4_7f46_11e9_b14d_acde48001122row1_col4\" class=\"data row1 col4\" >0.810574</td> \n",
       "        <td id=\"T_f69723f4_7f46_11e9_b14d_acde48001122row1_col5\" class=\"data row1 col5\" >0.792228</td> \n",
       "    </tr>    <tr> \n",
       "        <th id=\"T_f69723f4_7f46_11e9_b14d_acde48001122level0_row2\" class=\"row_heading level0 row2\" >sop</th> \n",
       "        <td id=\"T_f69723f4_7f46_11e9_b14d_acde48001122row2_col0\" class=\"data row2 col0\" >0.613498</td> \n",
       "        <td id=\"T_f69723f4_7f46_11e9_b14d_acde48001122row2_col1\" class=\"data row2 col1\" >0.64441</td> \n",
       "        <td id=\"T_f69723f4_7f46_11e9_b14d_acde48001122row2_col2\" class=\"data row2 col2\" >1</td> \n",
       "        <td id=\"T_f69723f4_7f46_11e9_b14d_acde48001122row2_col3\" class=\"data row2 col3\" >0.663707</td> \n",
       "        <td id=\"T_f69723f4_7f46_11e9_b14d_acde48001122row2_col4\" class=\"data row2 col4\" >0.712154</td> \n",
       "        <td id=\"T_f69723f4_7f46_11e9_b14d_acde48001122row2_col5\" class=\"data row2 col5\" >0.684137</td> \n",
       "    </tr>    <tr> \n",
       "        <th id=\"T_f69723f4_7f46_11e9_b14d_acde48001122level0_row3\" class=\"row_heading level0 row3\" >lor</th> \n",
       "        <td id=\"T_f69723f4_7f46_11e9_b14d_acde48001122row3_col0\" class=\"data row3 col0\" >0.524679</td> \n",
       "        <td id=\"T_f69723f4_7f46_11e9_b14d_acde48001122row3_col1\" class=\"data row3 col1\" >0.541563</td> \n",
       "        <td id=\"T_f69723f4_7f46_11e9_b14d_acde48001122row3_col2\" class=\"data row3 col2\" >0.663707</td> \n",
       "        <td id=\"T_f69723f4_7f46_11e9_b14d_acde48001122row3_col3\" class=\"data row3 col3\" >1</td> \n",
       "        <td id=\"T_f69723f4_7f46_11e9_b14d_acde48001122row3_col4\" class=\"data row3 col4\" >0.637469</td> \n",
       "        <td id=\"T_f69723f4_7f46_11e9_b14d_acde48001122row3_col5\" class=\"data row3 col5\" >0.645365</td> \n",
       "    </tr>    <tr> \n",
       "        <th id=\"T_f69723f4_7f46_11e9_b14d_acde48001122level0_row4\" class=\"row_heading level0 row4\" >cgpa</th> \n",
       "        <td id=\"T_f69723f4_7f46_11e9_b14d_acde48001122row4_col0\" class=\"data row4 col0\" >0.825878</td> \n",
       "        <td id=\"T_f69723f4_7f46_11e9_b14d_acde48001122row4_col1\" class=\"data row4 col1\" >0.810574</td> \n",
       "        <td id=\"T_f69723f4_7f46_11e9_b14d_acde48001122row4_col2\" class=\"data row4 col2\" >0.712154</td> \n",
       "        <td id=\"T_f69723f4_7f46_11e9_b14d_acde48001122row4_col3\" class=\"data row4 col3\" >0.637469</td> \n",
       "        <td id=\"T_f69723f4_7f46_11e9_b14d_acde48001122row4_col4\" class=\"data row4 col4\" >1</td> \n",
       "        <td id=\"T_f69723f4_7f46_11e9_b14d_acde48001122row4_col5\" class=\"data row4 col5\" >0.882413</td> \n",
       "    </tr>    <tr> \n",
       "        <th id=\"T_f69723f4_7f46_11e9_b14d_acde48001122level0_row5\" class=\"row_heading level0 row5\" >chance_of_admit</th> \n",
       "        <td id=\"T_f69723f4_7f46_11e9_b14d_acde48001122row5_col0\" class=\"data row5 col0\" >0.810351</td> \n",
       "        <td id=\"T_f69723f4_7f46_11e9_b14d_acde48001122row5_col1\" class=\"data row5 col1\" >0.792228</td> \n",
       "        <td id=\"T_f69723f4_7f46_11e9_b14d_acde48001122row5_col2\" class=\"data row5 col2\" >0.684137</td> \n",
       "        <td id=\"T_f69723f4_7f46_11e9_b14d_acde48001122row5_col3\" class=\"data row5 col3\" >0.645365</td> \n",
       "        <td id=\"T_f69723f4_7f46_11e9_b14d_acde48001122row5_col4\" class=\"data row5 col4\" >0.882413</td> \n",
       "        <td id=\"T_f69723f4_7f46_11e9_b14d_acde48001122row5_col5\" class=\"data row5 col5\" >1</td> \n",
       "    </tr></tbody> \n",
       "</table> "
      ],
      "text/plain": [
       "<pandas.io.formats.style.Styler at 0x1a144f7400>"
      ]
     },
     "execution_count": 13,
     "metadata": {},
     "output_type": "execute_result"
    }
   ],
   "source": [
    "corr = dataset.corr()\n",
    "corr.style.background_gradient(cmap='coolwarm')"
   ]
  },
  {
   "cell_type": "markdown",
   "metadata": {},
   "source": [
    "The correlation matrix above suggest that there are strong presence of multicollinearity within the dataset. gre_score for an instance has got 0.83 correlation coefficient with toefl_score. This means they are both giving the same explanation to the reason why a student should be admitted or not. Hence, keeping both of them will skew our model as it will violate the assumption of no or little multicollinearity.\n",
    "\n",
    "Checking for Outliers\n",
    "\n",
    "Outliers are numbers or observation that are outside the range of the rest of the data. Hence, an outlier is a data point whose value is higher that 1.5(75% - 25%) or lower than 1.5(75% - 25%)."
   ]
  },
  {
   "cell_type": "code",
   "execution_count": 14,
   "metadata": {},
   "outputs": [
    {
     "data": {
      "image/png": "[encoded data removed]",
      "text/plain": [
       "<Figure size 432x288 with 6 Axes>"
      ]
     },
     "metadata": {},
     "output_type": "display_data"
    }
   ],
   "source": [
    "fig, axs = plt.subplots(2, 3)\n",
    "# gre_score plot\n",
    "axs[0, 0].boxplot(dataset['gre_score'])\n",
    "axs[0, 0].set_title('gre_score')\n",
    "\n",
    "# toefl_score plot\n",
    "axs[0, 1].boxplot(dataset['toefl_score'])\n",
    "axs[0, 1].set_title('toefl_score')\n",
    "\n",
    "# sop plot\n",
    "axs[0, 2].boxplot(dataset['sop'])\n",
    "axs[0, 2].set_title(\"sop\")\n",
    "\n",
    "# lor plot\n",
    "axs[1, 0].boxplot(dataset['lor'])\n",
    "axs[1, 0].set_title('lor')\n",
    "\n",
    "# cgpa plot\n",
    "axs[1, 1].boxplot(dataset['cgpa'])\n",
    "axs[1, 1].set_title('cgpa')\n",
    "\n",
    "# chance of admission plot\n",
    "axs[1, 2].boxplot(dataset['chance_of_admit'])\n",
    "axs[1, 2].set_title('chance_of_admit')\n",
    "\n",
    "fig.subplots_adjust(left=0.15, right=1.98, bottom=0.09, top=0.95,\n",
    "                    hspace=0.5, wspace=0.5)\n",
    "\n",
    "plt.show()"
   ]
  },
  {
   "cell_type": "markdown",
   "metadata": {},
   "source": [
    "or looks like it has got an outlier from the bottom. So let's inspect that. From the diagram below we can clearly observe that there is an outlier."
   ]
  },
  {
   "cell_type": "code",
   "execution_count": 15,
   "metadata": {},
   "outputs": [
    {
     "data": {
      "text/plain": [
       "<matplotlib.axes._subplots.AxesSubplot at 0x1a14d811d0>"
      ]
     },
     "execution_count": 15,
     "metadata": {},
     "output_type": "execute_result"
    },
    {
     "data": {
      "image/png": "[encoded data removed]",
      "text/plain": [
       "<Figure size 432x288 with 1 Axes>"
      ]
     },
     "metadata": {},
     "output_type": "display_data"
    }
   ],
   "source": [
    "sns.boxplot(data = dataset['lor'], orient=\"v\", palette=\"Set2\")"
   ]
  },
  {
   "cell_type": "markdown",
   "metadata": {},
   "source": [
    "3. Data Splitting"
   ]
  },
  {
   "cell_type": "code",
   "execution_count": 16,
   "metadata": {},
   "outputs": [],
   "source": [
    "X = dataset[['toefl_score','university_rating','sop','lor','cgpa','research']]\n",
    "Y = dataset['chance_of_admit']\n",
    "X = pd.get_dummies(data=X, drop_first=True)"
   ]
  },
  {
   "cell_type": "code",
   "execution_count": 17,
   "metadata": {},
   "outputs": [],
   "source": [
    "#Treatment of the outlier\n",
    "from sklearn.model_selection import train_test_split\n",
    "X_train, X_test, y_train, y_test = train_test_split(X, Y, test_size=0.2, random_state=0)"
   ]
  },
  {
   "cell_type": "code",
   "execution_count": 18,
   "metadata": {},
   "outputs": [],
   "source": [
    "from sklearn.preprocessing import MinMaxScaler\n",
    "scaler = MinMaxScaler()\n",
    "X_train = scaler.fit_transform(X_train)\n",
    "X_test = scaler.transform(X_test)"
   ]
  },
  {
   "cell_type": "markdown",
   "metadata": {},
   "source": [
    "4. Model building\n",
    "\n",
    "Linear Regression"
   ]
  },
  {
   "cell_type": "code",
   "execution_count": 19,
   "metadata": {},
   "outputs": [],
   "source": [
    "from sklearn import linear_model\n",
    "lm = linear_model.LinearRegression()\n",
    "model = lm.fit(X_train, y_train)"
   ]
  },
  {
   "cell_type": "code",
   "execution_count": 20,
   "metadata": {},
   "outputs": [
    {
     "data": {
      "text/html": [
       "<div>\n",
       "<style scoped>\n",
       "    .dataframe tbody tr th:only-of-type {\n",
       "        vertical-align: middle;\n",
       "    }\n",
       "\n",
       "    .dataframe tbody tr th {\n",
       "        vertical-align: top;\n",
       "    }\n",
       "\n",
       "    .dataframe thead th {\n",
       "        text-align: right;\n",
       "    }\n",
       "</style>\n",
       "<table border=\"1\" class=\"dataframe\">\n",
       "  <thead>\n",
       "    <tr style=\"text-align: right;\">\n",
       "      <th></th>\n",
       "      <th>Coefficients</th>\n",
       "    </tr>\n",
       "  </thead>\n",
       "  <tbody>\n",
       "    <tr>\n",
       "      <th>toefl_score</th>\n",
       "      <td>0.122016</td>\n",
       "    </tr>\n",
       "    <tr>\n",
       "      <th>sop</th>\n",
       "      <td>0.002802</td>\n",
       "    </tr>\n",
       "    <tr>\n",
       "      <th>lor</th>\n",
       "      <td>0.075026</td>\n",
       "    </tr>\n",
       "    <tr>\n",
       "      <th>cgpa</th>\n",
       "      <td>0.411319</td>\n",
       "    </tr>\n",
       "    <tr>\n",
       "      <th>university_rating_2</th>\n",
       "      <td>-0.004141</td>\n",
       "    </tr>\n",
       "    <tr>\n",
       "      <th>university_rating_3</th>\n",
       "      <td>-0.003354</td>\n",
       "    </tr>\n",
       "    <tr>\n",
       "      <th>university_rating_4</th>\n",
       "      <td>0.006600</td>\n",
       "    </tr>\n",
       "    <tr>\n",
       "      <th>university_rating_5</th>\n",
       "      <td>0.022258</td>\n",
       "    </tr>\n",
       "    <tr>\n",
       "      <th>research_1</th>\n",
       "      <td>0.031827</td>\n",
       "    </tr>\n",
       "  </tbody>\n",
       "</table>\n",
       "</div>"
      ],
      "text/plain": [
       "                     Coefficients\n",
       "toefl_score              0.122016\n",
       "sop                      0.002802\n",
       "lor                      0.075026\n",
       "cgpa                     0.411319\n",
       "university_rating_2     -0.004141\n",
       "university_rating_3     -0.003354\n",
       "university_rating_4      0.006600\n",
       "university_rating_5      0.022258\n",
       "research_1               0.031827"
      ]
     },
     "execution_count": 20,
     "metadata": {},
     "output_type": "execute_result"
    }
   ],
   "source": [
    "coef_dframe = pd.DataFrame(lm.coef_,X.columns, columns=['Coefficients'])\n",
    "coef_dframe"
   ]
  },
  {
   "cell_type": "code",
   "execution_count": 21,
   "metadata": {},
   "outputs": [],
   "source": [
    "lm_pred = model.predict(X_test)"
   ]
  },
  {
   "cell_type": "code",
   "execution_count": 22,
   "metadata": {},
   "outputs": [
    {
     "data": {
      "text/plain": [
       "Text(0.5,0.98,'Actual vs Predicted')"
      ]
     },
     "execution_count": 22,
     "metadata": {},
     "output_type": "execute_result"
    },
    {
     "data": {
      "image/png": "[encoded data removed]",
      "text/plain": [
       "<Figure size 432x288 with 1 Axes>"
      ]
     },
     "metadata": {},
     "output_type": "display_data"
    }
   ],
   "source": [
    "fig = plt.figure()\n",
    "c = [i for i in range(1,101,1)]\n",
    "plt.plot(c,y_test, color = 'grey', linewidth = 2.5, label='Test')\n",
    "plt.plot(c,lm_pred, color = 'blue', linewidth = 2.5, label='Predicted')\n",
    "plt.grid(alpha = 0.3)\n",
    "plt.legend()\n",
    "fig.suptitle('Actual vs Predicted')"
   ]
  },
  {
   "cell_type": "markdown",
   "metadata": {},
   "source": [
    "Model Evaluation for Regression\n",
    "\n",
    "Root Mean Squared Error(RMSE)"
   ]
  },
  {
   "cell_type": "code",
   "execution_count": 23,
   "metadata": {},
   "outputs": [
    {
     "data": {
      "text/plain": [
       "0.0633984806071119"
      ]
     },
     "execution_count": 23,
     "metadata": {},
     "output_type": "execute_result"
    }
   ],
   "source": [
    "from sklearn import metrics\n",
    "np.sqrt(metrics.mean_squared_error(y_test,lm_pred))"
   ]
  },
  {
   "cell_type": "markdown",
   "metadata": {},
   "source": [
    "Mean Absolute Error(MAE)"
   ]
  },
  {
   "cell_type": "code",
   "execution_count": 24,
   "metadata": {},
   "outputs": [
    {
     "data": {
      "text/plain": [
       "0.048835980249957764"
      ]
     },
     "execution_count": 24,
     "metadata": {},
     "output_type": "execute_result"
    }
   ],
   "source": [
    "metrics.mean_absolute_error(y_test,lm_pred)"
   ]
  },
  {
   "cell_type": "markdown",
   "metadata": {},
   "source": [
    "R Squared and Adjusted R Squared"
   ]
  },
  {
   "cell_type": "code",
   "execution_count": 25,
   "metadata": {},
   "outputs": [
    {
     "name": "stdout",
     "output_type": "stream",
     "text": [
      "0.7698582949489491 0.746844124443844\n"
     ]
    }
   ],
   "source": [
    "SS_Residual = sum((y_test-lm_pred)**2)\n",
    "SS_Total = sum((y_test-np.mean(y_test))**2)\n",
    "R_squared = 1 - (float(SS_Residual))/SS_Total\n",
    "adjusted_R_squared = 1 - (1-R_squared)*(len(y_test)-1)/(len(y_test)-X.shape[1]-1)\n",
    "\n",
    "print (R_squared, adjusted_R_squared)"
   ]
  },
  {
   "cell_type": "markdown",
   "metadata": {},
   "source": [
    "Random Forest for Regression"
   ]
  },
  {
   "cell_type": "code",
   "execution_count": 26,
   "metadata": {},
   "outputs": [],
   "source": [
    "# Import the model we are using\n",
    "from sklearn.ensemble import RandomForestRegressor\n",
    "# Instantiate model with 1000 decision trees\n",
    "rf = RandomForestRegressor(n_estimators = 1000, random_state = 42)"
   ]
  },
  {
   "cell_type": "code",
   "execution_count": 27,
   "metadata": {},
   "outputs": [
    {
     "data": {
      "text/plain": [
       "RandomForestRegressor(bootstrap=True, criterion='mse', max_depth=None,\n",
       "           max_features='auto', max_leaf_nodes=None,\n",
       "           min_impurity_decrease=0.0, min_impurity_split=None,\n",
       "           min_samples_leaf=1, min_samples_split=2,\n",
       "           min_weight_fraction_leaf=0.0, n_estimators=1000, n_jobs=1,\n",
       "           oob_score=False, random_state=42, verbose=0, warm_start=False)"
      ]
     },
     "execution_count": 27,
     "metadata": {},
     "output_type": "execute_result"
    }
   ],
   "source": [
    "# Train the model on training data\n",
    "rf_model = rf.fit(X_train, y_train);\n",
    "rf_model"
   ]
  },
  {
   "cell_type": "code",
   "execution_count": 28,
   "metadata": {},
   "outputs": [],
   "source": [
    "# Use the forest's predict method on the test data\n",
    "rf_pred = rf.predict(X_test)"
   ]
  },
  {
   "cell_type": "markdown",
   "metadata": {},
   "source": [
    "Model Evaluation for Random Forest\n",
    "\n",
    "Mean Absolute Error"
   ]
  },
  {
   "cell_type": "code",
   "execution_count": 29,
   "metadata": {},
   "outputs": [
    {
     "name": "stdout",
     "output_type": "stream",
     "text": [
      "Mean Absolute Error: 0.05\n"
     ]
    }
   ],
   "source": [
    "# Calculate the absolute errors\n",
    "errors_rf = abs(rf_pred - y_test)\n",
    "\n",
    "# Print out the mean absolute error (mae)\n",
    "print('Mean Absolute Error:', round(np.mean(errors_rf), 2))"
   ]
  },
  {
   "cell_type": "markdown",
   "metadata": {},
   "source": [
    "Root Mean Squared Error(RMSE)"
   ]
  },
  {
   "cell_type": "code",
   "execution_count": 30,
   "metadata": {},
   "outputs": [
    {
     "name": "stdout",
     "output_type": "stream",
     "text": [
      "Root Mean Squared Error: 0.07\n"
     ]
    }
   ],
   "source": [
    "rmse = np.sqrt(metrics.mean_squared_error(y_test,rf_pred))\n",
    "\n",
    "print('Root Mean Squared Error:', round(rmse,2))"
   ]
  },
  {
   "cell_type": "markdown",
   "metadata": {},
   "source": [
    "R Squared and Adjusted R Squared"
   ]
  },
  {
   "cell_type": "code",
   "execution_count": 31,
   "metadata": {},
   "outputs": [
    {
     "name": "stdout",
     "output_type": "stream",
     "text": [
      "0.7446898606621919 0.7191588467284111\n"
     ]
    }
   ],
   "source": [
    "SS_Residual = sum((y_test-rf_pred)**2)\n",
    "SS_Total = sum((y_test-np.mean(y_test))**2)\n",
    "R_squared = 1 - (float(SS_Residual))/SS_Total\n",
    "adjusted_R_squared = 1 - (1-R_squared)*(len(y_test)-1)/(len(y_test)-X.shape[1]-1)\n",
    "\n",
    "print (R_squared, adjusted_R_squared)"
   ]
  },
  {
   "cell_type": "code",
   "execution_count": 32,
   "metadata": {},
   "outputs": [
    {
     "data": {
      "text/html": [
       "<div>\n",
       "<style scoped>\n",
       "    .dataframe tbody tr th:only-of-type {\n",
       "        vertical-align: middle;\n",
       "    }\n",
       "\n",
       "    .dataframe tbody tr th {\n",
       "        vertical-align: top;\n",
       "    }\n",
       "\n",
       "    .dataframe thead th {\n",
       "        text-align: right;\n",
       "    }\n",
       "</style>\n",
       "<table border=\"1\" class=\"dataframe\">\n",
       "  <thead>\n",
       "    <tr style=\"text-align: right;\">\n",
       "      <th></th>\n",
       "      <th>importance</th>\n",
       "    </tr>\n",
       "  </thead>\n",
       "  <tbody>\n",
       "    <tr>\n",
       "      <th>cgpa</th>\n",
       "      <td>0.841734</td>\n",
       "    </tr>\n",
       "    <tr>\n",
       "      <th>toefl_score</th>\n",
       "      <td>0.059476</td>\n",
       "    </tr>\n",
       "    <tr>\n",
       "      <th>sop</th>\n",
       "      <td>0.033830</td>\n",
       "    </tr>\n",
       "    <tr>\n",
       "      <th>lor</th>\n",
       "      <td>0.033231</td>\n",
       "    </tr>\n",
       "    <tr>\n",
       "      <th>research_1</th>\n",
       "      <td>0.012186</td>\n",
       "    </tr>\n",
       "    <tr>\n",
       "      <th>university_rating_2</th>\n",
       "      <td>0.005849</td>\n",
       "    </tr>\n",
       "    <tr>\n",
       "      <th>university_rating_3</th>\n",
       "      <td>0.005582</td>\n",
       "    </tr>\n",
       "    <tr>\n",
       "      <th>university_rating_4</th>\n",
       "      <td>0.004318</td>\n",
       "    </tr>\n",
       "    <tr>\n",
       "      <th>university_rating_5</th>\n",
       "      <td>0.003794</td>\n",
       "    </tr>\n",
       "  </tbody>\n",
       "</table>\n",
       "</div>"
      ],
      "text/plain": [
       "                     importance\n",
       "cgpa                   0.841734\n",
       "toefl_score            0.059476\n",
       "sop                    0.033830\n",
       "lor                    0.033231\n",
       "research_1             0.012186\n",
       "university_rating_2    0.005849\n",
       "university_rating_3    0.005582\n",
       "university_rating_4    0.004318\n",
       "university_rating_5    0.003794"
      ]
     },
     "execution_count": 32,
     "metadata": {},
     "output_type": "execute_result"
    }
   ],
   "source": [
    "feature_importances = pd.DataFrame(rf.feature_importances_,\n",
    "                                   index = X.columns,\n",
    "                                    columns=['importance']).sort_values('importance',ascending=False)\n",
    "feature_importances"
   ]
  },
  {
   "cell_type": "code",
   "execution_count": 33,
   "metadata": {},
   "outputs": [
    {
     "data": {
      "text/plain": [
       "array([[0.5       , 0.75      , 0.75      , 0.35897436, 1.        ,\n",
       "        0.        , 0.        , 0.        , 1.        ],\n",
       "       [0.78571429, 0.75      , 1.        , 0.74358974, 0.        ,\n",
       "        0.        , 1.        , 0.        , 0.        ],\n",
       "       [0.67857143, 0.375     , 0.5       , 0.67307692, 0.        ,\n",
       "        1.        , 0.        , 0.        , 1.        ],\n",
       "       [0.85714286, 0.875     , 1.        , 0.73076923, 0.        ,\n",
       "        0.        , 0.        , 1.        , 1.        ],\n",
       "       [0.35714286, 0.375     , 0.25      , 0.42628205, 0.        ,\n",
       "        1.        , 0.        , 0.        , 1.        ],\n",
       "       [0.46428571, 0.625     , 0.375     , 0.48076923, 0.        ,\n",
       "        1.        , 0.        , 0.        , 0.        ],\n",
       "       [0.32142857, 0.125     , 0.25      , 0.33974359, 1.        ,\n",
       "        0.        , 0.        , 0.        , 0.        ],\n",
       "       [0.64285714, 0.75      , 0.875     , 0.54487179, 0.        ,\n",
       "        1.        , 0.        , 0.        , 0.        ],\n",
       "       [0.28571429, 0.125     , 0.25      , 0.3525641 , 0.        ,\n",
       "        0.        , 0.        , 0.        , 0.        ],\n",
       "       [0.46428571, 0.5       , 0.75      , 0.625     , 0.        ,\n",
       "        1.        , 0.        , 0.        , 0.        ],\n",
       "       [0.39285714, 0.375     , 0.25      , 0.43269231, 1.        ,\n",
       "        0.        , 0.        , 0.        , 0.        ],\n",
       "       [0.42857143, 0.5       , 0.375     , 0.56730769, 0.        ,\n",
       "        1.        , 0.        , 0.        , 1.        ],\n",
       "       [0.35714286, 0.25      , 0.375     , 0.46153846, 1.        ,\n",
       "        0.        , 0.        , 0.        , 0.        ],\n",
       "       [0.60714286, 0.75      , 0.625     , 0.70512821, 0.        ,\n",
       "        1.        , 0.        , 0.        , 0.        ],\n",
       "       [0.89285714, 0.75      , 0.875     , 0.7275641 , 0.        ,\n",
       "        0.        , 0.        , 1.        , 1.        ],\n",
       "       [0.14285714, 0.375     , 0.125     , 0.34935897, 1.        ,\n",
       "        0.        , 0.        , 0.        , 0.        ],\n",
       "       [0.64285714, 0.75      , 1.        , 0.66666667, 0.        ,\n",
       "        0.        , 1.        , 0.        , 1.        ],\n",
       "       [0.5       , 0.25      , 0.625     , 0.42307692, 1.        ,\n",
       "        0.        , 0.        , 0.        , 0.        ],\n",
       "       [0.57142857, 0.5       , 0.625     , 0.66987179, 0.        ,\n",
       "        1.        , 0.        , 0.        , 0.        ],\n",
       "       [0.46428571, 0.        , 0.25      , 0.32051282, 0.        ,\n",
       "        0.        , 0.        , 0.        , 0.        ],\n",
       "       [0.25      , 0.375     , 0.5       , 0.2724359 , 1.        ,\n",
       "        0.        , 0.        , 0.        , 0.        ],\n",
       "       [0.42857143, 0.625     , 0.875     , 0.49358974, 0.        ,\n",
       "        1.        , 0.        , 0.        , 1.        ],\n",
       "       [0.32142857, 0.375     , 0.5       , 0.28205128, 0.        ,\n",
       "        0.        , 0.        , 0.        , 0.        ],\n",
       "       [0.85714286, 1.        , 1.        , 0.82692308, 0.        ,\n",
       "        0.        , 0.        , 1.        , 1.        ],\n",
       "       [0.64285714, 1.        , 0.75      , 0.73717949, 0.        ,\n",
       "        0.        , 0.        , 1.        , 1.        ],\n",
       "       [0.64285714, 0.375     , 0.625     , 0.55769231, 0.        ,\n",
       "        0.        , 0.        , 0.        , 1.        ],\n",
       "       [0.78571429, 0.5       , 0.25      , 0.51282051, 0.        ,\n",
       "        0.        , 1.        , 0.        , 0.        ],\n",
       "       [0.21428571, 0.        , 0.375     , 0.21153846, 0.        ,\n",
       "        0.        , 0.        , 0.        , 0.        ],\n",
       "       [0.28571429, 0.5       , 0.5       , 0.38461538, 1.        ,\n",
       "        0.        , 0.        , 0.        , 0.        ],\n",
       "       [0.28571429, 0.375     , 0.625     , 0.40705128, 1.        ,\n",
       "        0.        , 0.        , 0.        , 0.        ],\n",
       "       [0.39285714, 0.25      , 0.875     , 0.62179487, 1.        ,\n",
       "        0.        , 0.        , 0.        , 0.        ],\n",
       "       [0.25      , 0.5       , 0.625     , 0.15384615, 1.        ,\n",
       "        0.        , 0.        , 0.        , 0.        ],\n",
       "       [0.5       , 0.375     , 0.5       , 0.53525641, 0.        ,\n",
       "        0.        , 1.        , 0.        , 0.        ],\n",
       "       [0.64285714, 0.75      , 1.        , 0.69871795, 0.        ,\n",
       "        0.        , 0.        , 1.        , 1.        ],\n",
       "       [0.46428571, 0.25      , 0.375     , 0.2724359 , 1.        ,\n",
       "        0.        , 0.        , 0.        , 0.        ],\n",
       "       [0.32142857, 0.375     , 0.875     , 0.28525641, 0.        ,\n",
       "        0.        , 1.        , 0.        , 1.        ],\n",
       "       [0.57142857, 0.875     , 0.75      , 0.76282051, 0.        ,\n",
       "        0.        , 1.        , 0.        , 1.        ],\n",
       "       [0.75      , 0.875     , 0.875     , 0.78525641, 0.        ,\n",
       "        0.        , 1.        , 0.        , 1.        ],\n",
       "       [0.35714286, 0.625     , 0.375     , 0.43910256, 0.        ,\n",
       "        1.        , 0.        , 0.        , 0.        ],\n",
       "       [0.42857143, 0.25      , 0.625     , 0.50320513, 0.        ,\n",
       "        1.        , 0.        , 0.        , 0.        ],\n",
       "       [0.53571429, 0.375     , 0.75      , 0.47115385, 1.        ,\n",
       "        0.        , 0.        , 0.        , 0.        ],\n",
       "       [0.78571429, 0.75      , 1.        , 0.80128205, 0.        ,\n",
       "        0.        , 0.        , 1.        , 1.        ],\n",
       "       [0.85714286, 0.75      , 0.625     , 0.77884615, 0.        ,\n",
       "        0.        , 1.        , 0.        , 1.        ],\n",
       "       [0.64285714, 0.625     , 0.75      , 0.56410256, 0.        ,\n",
       "        1.        , 0.        , 0.        , 0.        ],\n",
       "       [0.71428571, 0.5       , 0.5       , 0.61538462, 0.        ,\n",
       "        1.        , 0.        , 0.        , 1.        ],\n",
       "       [0.53571429, 0.75      , 0.875     , 0.66346154, 0.        ,\n",
       "        0.        , 1.        , 0.        , 1.        ],\n",
       "       [0.96428571, 1.        , 0.875     , 0.95512821, 0.        ,\n",
       "        0.        , 0.        , 1.        , 1.        ],\n",
       "       [0.85714286, 0.625     , 0.75      , 0.75      , 0.        ,\n",
       "        1.        , 0.        , 0.        , 1.        ],\n",
       "       [0.67857143, 0.375     , 0.75      , 0.39423077, 1.        ,\n",
       "        0.        , 0.        , 0.        , 0.        ],\n",
       "       [0.5       , 0.75      , 0.625     , 0.46474359, 1.        ,\n",
       "        0.        , 0.        , 0.        , 0.        ],\n",
       "       [0.39285714, 0.375     , 0.5       , 0.5       , 1.        ,\n",
       "        0.        , 0.        , 0.        , 0.        ],\n",
       "       [0.32142857, 0.375     , 0.625     , 0.3974359 , 1.        ,\n",
       "        0.        , 0.        , 0.        , 1.        ],\n",
       "       [0.39285714, 0.375     , 0.625     , 0.42628205, 1.        ,\n",
       "        0.        , 0.        , 0.        , 0.        ],\n",
       "       [0.71428571, 0.5       , 0.625     , 0.69230769, 1.        ,\n",
       "        0.        , 0.        , 0.        , 1.        ],\n",
       "       [0.46428571, 0.625     , 0.625     , 0.56410256, 0.        ,\n",
       "        0.        , 0.        , 1.        , 0.        ],\n",
       "       [0.71428571, 0.75      , 0.875     , 0.73717949, 0.        ,\n",
       "        0.        , 1.        , 0.        , 1.        ],\n",
       "       [0.32142857, 0.375     , 0.25      , 0.33974359, 1.        ,\n",
       "        0.        , 0.        , 0.        , 0.        ],\n",
       "       [0.75      , 0.75      , 0.875     , 0.77884615, 0.        ,\n",
       "        0.        , 1.        , 0.        , 1.        ],\n",
       "       [0.46428571, 0.5       , 0.25      , 0.45833333, 1.        ,\n",
       "        0.        , 0.        , 0.        , 0.        ],\n",
       "       [0.5       , 0.5       , 0.5       , 0.46153846, 0.        ,\n",
       "        1.        , 0.        , 0.        , 0.        ],\n",
       "       [0.10714286, 0.5       , 0.25      , 0.23717949, 1.        ,\n",
       "        0.        , 0.        , 0.        , 1.        ],\n",
       "       [0.75      , 1.        , 0.875     , 0.84935897, 0.        ,\n",
       "        0.        , 0.        , 1.        , 1.        ],\n",
       "       [0.46428571, 0.25      , 0.625     , 0.41666667, 1.        ,\n",
       "        0.        , 0.        , 0.        , 0.        ],\n",
       "       [0.67857143, 0.75      , 1.        , 0.98076923, 0.        ,\n",
       "        0.        , 0.        , 1.        , 1.        ],\n",
       "       [0.57142857, 0.375     , 0.5       , 0.62820513, 1.        ,\n",
       "        0.        , 0.        , 0.        , 0.        ],\n",
       "       [0.46428571, 0.5       , 0.375     , 0.46794872, 1.        ,\n",
       "        0.        , 0.        , 0.        , 0.        ],\n",
       "       [0.5       , 0.625     , 0.75      , 0.51282051, 0.        ,\n",
       "        1.        , 0.        , 0.        , 1.        ],\n",
       "       [0.78571429, 0.75      , 0.625     , 0.75641026, 0.        ,\n",
       "        0.        , 1.        , 0.        , 1.        ],\n",
       "       [0.14285714, 0.125     , 0.25      , 0.33974359, 1.        ,\n",
       "        0.        , 0.        , 0.        , 0.        ],\n",
       "       [0.78571429, 0.25      , 0.75      , 0.56410256, 1.        ,\n",
       "        0.        , 0.        , 0.        , 1.        ],\n",
       "       [0.82142857, 0.75      , 0.625     , 0.84615385, 0.        ,\n",
       "        0.        , 0.        , 1.        , 1.        ],\n",
       "       [0.71428571, 0.625     , 0.625     , 0.67948718, 0.        ,\n",
       "        0.        , 1.        , 0.        , 0.        ],\n",
       "       [0.53571429, 0.5       , 0.5       , 0.53205128, 0.        ,\n",
       "        1.        , 0.        , 0.        , 1.        ],\n",
       "       [0.5       , 0.625     , 0.5       , 0.34935897, 0.        ,\n",
       "        1.        , 0.        , 0.        , 1.        ],\n",
       "       [0.67857143, 0.875     , 0.625     , 0.66346154, 0.        ,\n",
       "        0.        , 1.        , 0.        , 1.        ],\n",
       "       [0.82142857, 0.875     , 1.        , 0.77884615, 0.        ,\n",
       "        0.        , 0.        , 1.        , 1.        ],\n",
       "       [0.64285714, 0.5       , 0.375     , 0.62820513, 1.        ,\n",
       "        0.        , 0.        , 0.        , 1.        ],\n",
       "       [0.53571429, 0.625     , 0.625     , 0.53205128, 0.        ,\n",
       "        1.        , 0.        , 0.        , 1.        ],\n",
       "       [0.25      , 0.5       , 0.625     , 0.32371795, 0.        ,\n",
       "        0.        , 1.        , 0.        , 0.        ],\n",
       "       [0.28571429, 0.5       , 0.375     , 0.56730769, 1.        ,\n",
       "        0.        , 0.        , 0.        , 0.        ],\n",
       "       [0.5       , 0.375     , 0.375     , 0.38461538, 1.        ,\n",
       "        0.        , 0.        , 0.        , 0.        ],\n",
       "       [0.67857143, 0.875     , 0.75      , 0.77884615, 0.        ,\n",
       "        0.        , 0.        , 1.        , 1.        ],\n",
       "       [0.32142857, 0.625     , 0.375     , 0.34615385, 0.        ,\n",
       "        1.        , 0.        , 0.        , 0.        ],\n",
       "       [0.42857143, 0.625     , 0.625     , 0.51923077, 0.        ,\n",
       "        1.        , 0.        , 0.        , 0.        ],\n",
       "       [0.75      , 0.625     , 0.5       , 0.59615385, 0.        ,\n",
       "        1.        , 0.        , 0.        , 1.        ],\n",
       "       [0.28571429, 0.25      , 0.25      , 0.39102564, 0.        ,\n",
       "        1.        , 0.        , 0.        , 0.        ],\n",
       "       [0.71428571, 0.5       , 0.875     , 0.68910256, 0.        ,\n",
       "        1.        , 0.        , 0.        , 1.        ],\n",
       "       [0.42857143, 0.25      , 0.375     , 0.46794872, 1.        ,\n",
       "        0.        , 0.        , 0.        , 0.        ],\n",
       "       [0.25      , 0.25      , 0.25      , 0.14423077, 0.        ,\n",
       "        0.        , 0.        , 0.        , 0.        ],\n",
       "       [0.64285714, 0.5       , 0.625     , 0.38461538, 0.        ,\n",
       "        1.        , 0.        , 0.        , 0.        ],\n",
       "       [0.39285714, 0.75      , 0.75      , 0.625     , 0.        ,\n",
       "        1.        , 0.        , 0.        , 0.        ],\n",
       "       [0.60714286, 0.625     , 0.5       , 0.68589744, 0.        ,\n",
       "        1.        , 0.        , 0.        , 1.        ],\n",
       "       [0.25      , 0.375     , 0.5       , 0.5224359 , 0.        ,\n",
       "        0.        , 0.        , 0.        , 1.        ],\n",
       "       [0.39285714, 0.375     , 0.5       , 0.55769231, 0.        ,\n",
       "        1.        , 0.        , 0.        , 1.        ],\n",
       "       [0.35714286, 0.5       , 0.5       , 0.47115385, 0.        ,\n",
       "        1.        , 0.        , 0.        , 0.        ],\n",
       "       [0.96428571, 0.875     , 0.75      , 0.90384615, 0.        ,\n",
       "        0.        , 1.        , 0.        , 1.        ],\n",
       "       [0.35714286, 0.25      , 0.5       , 0.19230769, 0.        ,\n",
       "        1.        , 0.        , 0.        , 0.        ],\n",
       "       [0.42857143, 0.375     , 0.125     , 0.31730769, 1.        ,\n",
       "        0.        , 0.        , 0.        , 0.        ],\n",
       "       [0.28571429, 0.5       , 0.5       , 0.41666667, 1.        ,\n",
       "        0.        , 0.        , 0.        , 0.        ],\n",
       "       [0.5       , 0.5       , 0.5       , 0.43589744, 1.        ,\n",
       "        0.        , 0.        , 0.        , 0.        ]])"
      ]
     },
     "execution_count": 33,
     "metadata": {},
     "output_type": "execute_result"
    }
   ],
   "source": [
    "X_test"
   ]
  },
  {
   "cell_type": "code",
   "execution_count": 34,
   "metadata": {},
   "outputs": [
    {
     "data": {
      "text/plain": [
       "array([0.64664619, 0.83737789, 0.778611  , 0.88865583, 0.6191237 ,\n",
       "       0.6328602 , 0.54585632, 0.71887862, 0.5509132 , 0.7199696 ,\n",
       "       0.59350384, 0.69557418, 0.61003911, 0.76168094, 0.88196668,\n",
       "       0.51934507, 0.82013416, 0.63040647, 0.74212107, 0.55916814,\n",
       "       0.52891302, 0.70311588, 0.54572467, 0.92855602, 0.84674003,\n",
       "       0.73952571, 0.68548799, 0.49321924, 0.57976256, 0.59801887,\n",
       "       0.71782639, 0.48986331, 0.67826095, 0.84897606, 0.5453307 ,\n",
       "       0.61360444, 0.83256243, 0.87295751, 0.60264879, 0.65543654,\n",
       "       0.66426766, 0.90859345, 0.86428717, 0.71706008, 0.75958901,\n",
       "       0.79636447, 0.98498409, 0.85149649, 0.65005852, 0.64894582,\n",
       "       0.63994531, 0.6302486 , 0.61900196, 0.79982001, 0.71150559,\n",
       "       0.84847458, 0.54655685, 0.86997058, 0.61311615, 0.63833591,\n",
       "       0.51040134, 0.91533297, 0.62341211, 0.96934686, 0.71446704,\n",
       "       0.62644941, 0.71036301, 0.84634345, 0.52406782, 0.76447991,\n",
       "       0.903273  , 0.77381083, 0.70352391, 0.62437162, 0.79538902,\n",
       "       0.90407309, 0.74598147, 0.71325243, 0.57047573, 0.64552915,\n",
       "       0.59618024, 0.86788577, 0.5600595 , 0.66307898, 0.75638699,\n",
       "       0.56372938, 0.8180454 , 0.62139118, 0.46121427, 0.63350504,\n",
       "       0.71195472, 0.77586945, 0.6677111 , 0.69628949, 0.6248601 ,\n",
       "       0.93850369, 0.5094648 , 0.54102338, 0.59294587, 0.62700206])"
      ]
     },
     "execution_count": 34,
     "metadata": {},
     "output_type": "execute_result"
    }
   ],
   "source": [
    "Predictions = model.predict(X_test)\n",
    "Predictions"
   ]
  },
  {
   "cell_type": "code",
   "execution_count": 35,
   "metadata": {},
   "outputs": [
    {
     "data": {
      "text/html": [
       "<div>\n",
       "<style scoped>\n",
       "    .dataframe tbody tr th:only-of-type {\n",
       "        vertical-align: middle;\n",
       "    }\n",
       "\n",
       "    .dataframe tbody tr th {\n",
       "        vertical-align: top;\n",
       "    }\n",
       "\n",
       "    .dataframe thead th {\n",
       "        text-align: right;\n",
       "    }\n",
       "</style>\n",
       "<table border=\"1\" class=\"dataframe\">\n",
       "  <thead>\n",
       "    <tr style=\"text-align: right;\">\n",
       "      <th></th>\n",
       "      <th>Predictions</th>\n",
       "    </tr>\n",
       "  </thead>\n",
       "  <tbody>\n",
       "    <tr>\n",
       "      <th>0</th>\n",
       "      <td>0.646646</td>\n",
       "    </tr>\n",
       "    <tr>\n",
       "      <th>1</th>\n",
       "      <td>0.837378</td>\n",
       "    </tr>\n",
       "    <tr>\n",
       "      <th>2</th>\n",
       "      <td>0.778611</td>\n",
       "    </tr>\n",
       "    <tr>\n",
       "      <th>3</th>\n",
       "      <td>0.888656</td>\n",
       "    </tr>\n",
       "    <tr>\n",
       "      <th>4</th>\n",
       "      <td>0.619124</td>\n",
       "    </tr>\n",
       "  </tbody>\n",
       "</table>\n",
       "</div>"
      ],
      "text/plain": [
       "   Predictions\n",
       "0     0.646646\n",
       "1     0.837378\n",
       "2     0.778611\n",
       "3     0.888656\n",
       "4     0.619124"
      ]
     },
     "execution_count": 35,
     "metadata": {},
     "output_type": "execute_result"
    }
   ],
   "source": [
    "#Create a  DataFrame with the passengers ids and our prediction regarding whether they survived or not\n",
    "submission = pd.DataFrame(Predictions,columns=['Predictions'])\n",
    "\n",
    "#Visualize the first 5 rows\n",
    "submission.head()"
   ]
  },
  {
   "cell_type": "code",
   "execution_count": null,
   "metadata": {},
   "outputs": [],
   "source": [
    "#Convert DataFrame to a csv file that can be uploaded\n",
    "#This is saved in the same directory as your notebook\n",
    "filename = 'Predictions 1.csv'\n",
    "\n",
    "submission.to_csv(filename,index=False)\n",
    "\n",
    "print('Saved file: ' + filename)"
   ]
  }
 ],
 "metadata": {
  "kernelspec": {
   "display_name": "Python 3",
   "language": "python",
   "name": "python3"
  },
  "language_info": {
   "codemirror_mode": {
    "name": "ipython",
    "version": 3
   },
   "file_extension": ".py",
   "mimetype": "text/x-python",
   "name": "python",
   "nbconvert_exporter": "python",
   "pygments_lexer": "ipython3",
   "version": "3.6.5"
  }
 },
 "nbformat": 4,
 "nbformat_minor": 2
}
